{
 "cells": [
  {
   "cell_type": "code",
   "execution_count": null,
   "metadata": {},
   "outputs": [],
   "source": [
    "%matplotlib notebook\n",
    "\n",
    "from libsignetsim.model.SbmlDocument import SbmlDocument\n",
    "from libsignetsim import Experiment, TimeseriesSimulation, ModelVsTimeseriesOptimization\n",
    "\n",
    "from os.path import join\n",
    "import matplotlib.pyplot as plt"
   ]
  },
  {
   "cell_type": "code",
   "execution_count": null,
   "metadata": {},
   "outputs": [],
   "source": [
    "# Loading the model\n",
    "sbml_filename = join(\"sbml_files\", \"ras_mapk.xml\")\n",
    "sbml_doc = SbmlDocument()\n",
    "sbml_doc.readSbmlFromFile(sbml_filename)\n",
    "model = sbml_doc.getModelInstance()\n",
    "\n",
    "# Putting FGF2 stimulus as initial condition, otherwise it's boring\n",
    "model.listOfSpecies.getBySbmlId(\"fgf2\").setValue(333)"
   ]
  },
  {
   "cell_type": "code",
   "execution_count": null,
   "metadata": {},
   "outputs": [],
   "source": [
    "# Simulating the model as is\n",
    "sim = TimeseriesSimulation([model], time_min=0, time_ech=6, time_max=3600)\n",
    "sim.run()\n",
    "ts, ys = sim.getRawData()[0]"
   ]
  },
  {
   "cell_type": "code",
   "execution_count": null,
   "metadata": {},
   "outputs": [],
   "source": [
    "# Generating the fake experimental data from the simulation\n",
    "experiment = Experiment()\n",
    "condition = experiment.createCondition()\n",
    "\n",
    "for i, t in enumerate(ts):\n",
    "    condition.addObservation(t, \"Ras-GTP\", ys[\"ras_gtp\"][i])\n",
    "    condition.addObservation(t, \"Mapk-PP\", ys[\"mapk_pp\"][i])"
   ]
  },
  {
   "cell_type": "code",
   "execution_count": null,
   "metadata": {},
   "outputs": [],
   "source": [
    "# Modifying one parameter\n",
    "param = model.listOfParameters.getBySbmlId(\"raf_activation_cat\")\n",
    "print \"Original parameter value : %g\" % param.getValue()\n",
    "param.setValue(1)"
   ]
  },
  {
   "cell_type": "code",
   "execution_count": null,
   "metadata": {},
   "outputs": [],
   "source": [
    "# Simulating the model with this modification\n",
    "sim_mod = TimeseriesSimulation([model], time_min=0, time_ech=6, time_max=3600)\n",
    "sim_mod.run()\n",
    "ts_mod, ys_mod = sim_mod.getRawData()[0]"
   ]
  },
  {
   "cell_type": "code",
   "execution_count": null,
   "metadata": {},
   "outputs": [],
   "source": [
    "# Comparing the two trajectories for Ras-GTP and MAPK-PP\n",
    "plt.figure()\n",
    "plot1 = plt.subplot(2,1,1)\n",
    "plot1.plot(ts, ys[\"ras_gtp\"], ts, ys[\"mapk_pp\"])\n",
    "plot2 = plt.subplot(2,1,2)\n",
    "plot2.plot(ts_mod, ys_mod[\"ras_gtp\"], ts_mod, ys_mod[\"mapk_pp\"])"
   ]
  },
  {
   "cell_type": "code",
   "execution_count": null,
   "metadata": {},
   "outputs": [],
   "source": [
    "# Selecting which parameter to adjust in the optization, its initial value, and its boundaries\n",
    "selected_parameters = []\n",
    "selected_parameters.append((param, 1, 1e-8, 1e+8))\n",
    "\n",
    "# Doing the fitting\n",
    "# Lambda is a quality parameter. The smaller, the longer, but the highest chance to get the global optimum.\n",
    "# Depends on the complexity of the problem.\n",
    "\n",
    "# Freeze count is another quality parameter, only used here to make a quick example, since the problem is really easy.\n",
    "# It defined how many optimization iterations to go through before stopping, if the score doesn't evolve anymore. \n",
    "# Default is 100. \n",
    "fit = ModelVsTimeseriesOptimization(\n",
    "    workingModel=model,\n",
    "    list_of_experiments=[experiment],\n",
    "    parameters_to_fit=selected_parameters,\n",
    "    p_lambda=0.01, p_freeze_count=10\n",
    ")\n",
    "\n",
    "score = fit.runOptimization(2)\n",
    "parameters = fit.readOptimizationOutput()"
   ]
  },
  {
   "cell_type": "code",
   "execution_count": null,
   "metadata": {},
   "outputs": [],
   "source": [
    "# Settings the parameter to the fitted value, and simulating again\n",
    "fitted_value = parameters[param]\n",
    "print \"> Fitted parameter value = %g\" % fitted_value\n",
    "param.setValue(fitted_value)\n",
    "sim_fitted = TimeseriesSimulation([model], time_min=0, time_ech=6, time_max=3600)\n",
    "sim_fitted.run()\n",
    "ts_fitted, ys_fitted = sim_fitted.getRawData()[0]"
   ]
  },
  {
   "cell_type": "code",
   "execution_count": null,
   "metadata": {},
   "outputs": [],
   "source": [
    "# Comparing the fitting result to the original.\n",
    "fig2 = plt.figure()\n",
    "plot1 = plt.subplot(2,1,1)\n",
    "plot1.plot(ts, ys[\"ras_gtp\"], ts, ys[\"mapk_pp\"])\n",
    "plot2 = plt.subplot(2,1,2)\n",
    "plot2.plot(ts_fitted, ys_fitted[\"ras_gtp\"], ts_fitted, ys_fitted[\"mapk_pp\"])"
   ]
  }
 ],
 "metadata": {
  "kernelspec": {
   "display_name": "Python 2",
   "language": "python",
   "name": "python2"
  },
  "language_info": {
   "codemirror_mode": {
    "name": "ipython",
    "version": 2
   },
   "file_extension": ".py",
   "mimetype": "text/x-python",
   "name": "python",
   "nbconvert_exporter": "python",
   "pygments_lexer": "ipython2",
   "version": "2.7.12"
  }
 },
 "nbformat": 4,
 "nbformat_minor": 2
}
