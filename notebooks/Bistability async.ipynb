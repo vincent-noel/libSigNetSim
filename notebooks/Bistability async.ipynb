{
 "cells": [
  {
   "cell_type": "code",
   "execution_count": null,
   "metadata": {},
   "outputs": [],
   "source": [
    "%matplotlib notebook\n",
    "\n",
    "from libsignetsim import SbmlDocument, EquilibriumPointCurve\n",
    "from matplotlib import pyplot as plt\n",
    "\n",
    "color_scheme = ['#7ac142','#273d15','#507e2b','#a1ff57']"
   ]
  },
  {
   "cell_type": "code",
   "execution_count": null,
   "metadata": {},
   "outputs": [],
   "source": [
    "def plot_result(continuation):\n",
    "    figure = plt.figure(figsize=(12, 6))\n",
    "    plot = figure.add_subplot(111)\n",
    "    \n",
    "    continuation.plotCurve(plot)"
   ]
  },
  {
   "cell_type": "code",
   "execution_count": null,
   "metadata": {},
   "outputs": [],
   "source": [
    "def print_error():\n",
    "    print \"error\""
   ]
  },
  {
   "cell_type": "code",
   "execution_count": null,
   "metadata": {},
   "outputs": [],
   "source": [
    "doc = SbmlDocument()\n",
    "doc.readSbmlFromFile(\"sbml_files/ras_das.xml\")\n",
    "doc.model.listOfVariables.getBySbmlId(\"sos\").setValue(0)\n",
    "doc.model.listOfVariables.getBySbmlId(\"total_sos\").setValue(0)"
   ]
  },
  {
   "cell_type": "code",
   "execution_count": null,
   "metadata": {},
   "outputs": [],
   "source": [
    "parameter = doc.model.listOfVariables.getBySbmlId(\"total_sos\")\n",
    "variable = doc.model.listOfVariables.getBySbmlId(\"ras_gtp\")\n",
    "ds = 0.1\n",
    "max_steps = 200\n",
    "fromValue = 0\n",
    "toValue = 500"
   ]
  },
  {
   "cell_type": "code",
   "execution_count": null,
   "metadata": {},
   "outputs": [],
   "source": [
    "curve = EquilibriumPointCurve(doc.model)\n",
    "curve.setParameter(parameter)\n",
    "curve.setVariable(variable)\n",
    "curve.setRange(fromValue, toValue)\n",
    "curve.setDs(ds)\n",
    "curve.setMaxSteps(max_steps)\n",
    "curve.build()\n",
    "curve.run_async(plot_result, print_error)"
   ]
  }
 ],
 "metadata": {
  "kernelspec": {
   "display_name": "Python 2",
   "language": "python",
   "name": "python2"
  },
  "language_info": {
   "codemirror_mode": {
    "name": "ipython",
    "version": 2
   },
   "file_extension": ".py",
   "mimetype": "text/x-python",
   "name": "python",
   "nbconvert_exporter": "python",
   "pygments_lexer": "ipython2",
   "version": "2.7.12"
  }
 },
 "nbformat": 4,
 "nbformat_minor": 2
}
