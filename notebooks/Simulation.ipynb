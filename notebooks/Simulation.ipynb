{
 "cells": [
  {
   "cell_type": "code",
   "execution_count": null,
   "metadata": {},
   "outputs": [],
   "source": [
    "%matplotlib notebook\n",
    "from libsignetsim import Model, TimeseriesSimulation"
   ]
  },
  {
   "cell_type": "code",
   "execution_count": null,
   "metadata": {},
   "outputs": [],
   "source": [
    "m = Model()\n",
    "m.setName(\"Enzymatic Reaction\")\n",
    "\n",
    "e = m.listOfSpecies.new(\"E\")\n",
    "s = m.listOfSpecies.new(\"S\")\n",
    "p = m.listOfSpecies.new(\"P\")\n",
    "\n",
    "vmax = m.listOfParameters.new(\"vmax\")\n",
    "km = m.listOfParameters.new(\"km\")\n",
    "\n",
    "r = m.listOfReactions.new(\"Enzymatic reaction\")\n",
    "r.listOfReactants.add(s)\n",
    "r.listOfModifiers.add(e)\n",
    "r.listOfProducts.add(p)\n",
    "r.kineticLaw.setPrettyPrintMathFormula(\"vmax*E*S/(km+S)\", forcedConcentration=True)\n",
    "\n",
    "e.setValue(10)\n",
    "s.setValue(12)\n",
    "p.setValue(0)\n",
    "vmax.setValue(0.211)\n",
    "km.setValue(1.233)"
   ]
  },
  {
   "cell_type": "code",
   "execution_count": null,
   "metadata": {
    "scrolled": true
   },
   "outputs": [],
   "source": [
    "sim = TimeseriesSimulation([m], time_min=0, time_ech=1, time_max=20)\n",
    "sim.run()\n",
    "sim.plot()"
   ]
  }
 ],
 "metadata": {
  "kernelspec": {
   "display_name": "Python 2",
   "language": "python",
   "name": "python2"
  },
  "language_info": {
   "codemirror_mode": {
    "name": "ipython",
    "version": 2
   },
   "file_extension": ".py",
   "mimetype": "text/x-python",
   "name": "python",
   "nbconvert_exporter": "python",
   "pygments_lexer": "ipython2",
   "version": "2.7.12"
  }
 },
 "nbformat": 4,
 "nbformat_minor": 2
}
