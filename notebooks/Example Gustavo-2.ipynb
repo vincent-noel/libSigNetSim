{
 "cells": [
  {
   "cell_type": "code",
   "execution_count": null,
   "metadata": {},
   "outputs": [],
   "source": [
    "%matplotlib notebook\n",
    "\n",
    "from libsignetsim.model.SbmlDocument import SbmlDocument\n",
    "from libsignetsim.model.sbml.KineticLaw import KineticLaw\n",
    "from libsignetsim.simulation.TimeseriesSimulation import TimeseriesSimulation\n",
    "from libsignetsim.data.Experiment import Experiment\n",
    "from libsignetsim.optimization.ModelVsTimeseriesOptimization import ModelVsTimeseriesOptimization\n",
    "\n",
    "from os.path import join\n",
    "import matplotlib.pyplot as plt"
   ]
  },
  {
   "cell_type": "code",
   "execution_count": null,
   "metadata": {},
   "outputs": [],
   "source": [
    "# Loading the model\n",
    "sbml_filename = join(\"sbml_files\", \"ras_mapk.xml\")\n",
    "sbml_doc = SbmlDocument()\n",
    "sbml_doc.readSbmlFromFile(sbml_filename)\n",
    "model = sbml_doc.getModelInstance()\n",
    "\n",
    "# Settings the FGF2 stimulus\n",
    "model.listOfSpecies.getBySbmlId(\"fgf2\").setValue(333)"
   ]
  },
  {
   "cell_type": "code",
   "execution_count": null,
   "metadata": {},
   "outputs": [],
   "source": [
    "# Simulating the model\n",
    "sim = TimeseriesSimulation([model], time_min=0, time_ech=6, time_max=3600)\n",
    "sim.run()\n",
    "ts, ys = sim.getRawData()[0]"
   ]
  },
  {
   "cell_type": "code",
   "execution_count": null,
   "metadata": {},
   "outputs": [],
   "source": [
    "# Building the fake experimental data from the simulated trajectories\n",
    "experiment = Experiment()\n",
    "condition = experiment.createCondition()\n",
    "\n",
    "for i, t in enumerate(ts):\n",
    "    condition.addObservation(t, \"Ras-GTP\", ys[\"ras_gtp\"][i])\n",
    "    condition.addObservation(t, \"Mapk-PP\", ys[\"mapk_pp\"][i])"
   ]
  },
  {
   "cell_type": "code",
   "execution_count": null,
   "metadata": {},
   "outputs": [],
   "source": [
    "# Removing the original SOS activation by FGF2\n",
    "\n",
    "reaction_fgf = model.listOfReactions.values()[6]\n",
    "print reaction_fgf\n",
    "model.listOfReactions.remove(reaction_fgf)"
   ]
  },
  {
   "cell_type": "code",
   "execution_count": null,
   "metadata": {},
   "outputs": [],
   "source": [
    "# Adding a new activation mechanism. \n",
    "\n",
    "# First reaction activates SOS as an enzymatic reaction \n",
    "kcat = model.listOfParameters.new(\"kcat\")\n",
    "km = model.listOfParameters.new(\"km\")\n",
    "kdeg = model.listOfParameters.new(\"kdeg\")\n",
    "\n",
    "reaction_activation_sos = model.listOfReactions.new()\n",
    "reaction_activation_sos.listOfReactants.add(model.listOfSpecies.getBySbmlId(\"sos_i\"))\n",
    "reaction_activation_sos.listOfModifiers.add(model.listOfSpecies.getBySbmlId(\"fgf2\"))\n",
    "reaction_activation_sos.listOfProducts.add(model.listOfSpecies.getBySbmlId(\"sos\"))\n",
    "reaction_activation_sos.setKineticLaw(KineticLaw.MICHAELIS, reversible=False, parameters=[kcat, km])\n",
    "print reaction_activation_sos\n",
    "\n",
    "# Second reaction desactivate fgf2 with time\n",
    "reaction_degradation_fgf2 = model.listOfReactions.new()\n",
    "reaction_degradation_fgf2.listOfReactants.add(model.listOfSpecies.getBySbmlId(\"fgf2\"))\n",
    "reaction_degradation_fgf2.setKineticLaw(KineticLaw.MASS_ACTION, reversible=False, parameters=[kdeg])\n",
    "print reaction_degradation_fgf2"
   ]
  },
  {
   "cell_type": "code",
   "execution_count": null,
   "metadata": {},
   "outputs": [],
   "source": [
    "# Simulating the new mechanism\n",
    "\n",
    "sim_mod = TimeseriesSimulation([model], time_min=0, time_ech=6, time_max=3600)\n",
    "sim_mod.run()\n",
    "ts_mod, ys_mod = sim_mod.getRawData()[0]"
   ]
  },
  {
   "cell_type": "code",
   "execution_count": null,
   "metadata": {},
   "outputs": [],
   "source": [
    "# Plotting the trajectories for comparison\n",
    "\n",
    "plt.figure()\n",
    "plot1 = plt.subplot(2,1,1)\n",
    "plot1.plot(ts, ys[\"ras_gtp\"], ts, ys[\"mapk_pp\"])\n",
    "plot2 = plt.subplot(2,1,2)\n",
    "plot2.plot(ts_mod, ys_mod[\"ras_gtp\"], ts_mod, ys_mod[\"mapk_pp\"])"
   ]
  },
  {
   "cell_type": "code",
   "execution_count": null,
   "metadata": {},
   "outputs": [],
   "source": [
    "# Selecting the parameters from the new mechanism \n",
    "selected_parameters = []\n",
    "selected_parameters.append((kcat, 1, 1e-8, 1e+8))\n",
    "selected_parameters.append((km, 1, 1e-8, 1e+8))\n",
    "selected_parameters.append((kdeg, 1, 1e-8, 1e+8))\n",
    "\n",
    "# Lauching the fitting\n",
    "fit = ModelVsTimeseriesOptimization(\n",
    "    workingModel=model,\n",
    "    list_of_experiments=[experiment],\n",
    "    parameters_to_fit=selected_parameters,\n",
    "    p_lambda=0.001\n",
    ")\n",
    "\n",
    "# Running on 2 processors\n",
    "score = fit.runOptimization(2)\n",
    "parameters = fit.readOptimizationOutput()"
   ]
  },
  {
   "cell_type": "code",
   "execution_count": null,
   "metadata": {},
   "outputs": [],
   "source": [
    "# Setting the parameters values from the fit results\n",
    "\n",
    "kcat.setValue(parameters[kcat])\n",
    "km.setValue(parameters[km])\n",
    "kdeg.setValue(parameters[kdeg])\n",
    "\n",
    "sim_fitted = TimeseriesSimulation([model], time_min=0, time_ech=6, time_max=3600)\n",
    "sim_fitted.run()\n",
    "ts_fitted, ys_fitted = sim_fitted.getRawData()[0]"
   ]
  },
  {
   "cell_type": "code",
   "execution_count": null,
   "metadata": {},
   "outputs": [],
   "source": [
    "# Plotting the original and fitted model\n",
    "\n",
    "plt.figure()\n",
    "plot1 = plt.subplot(2,1,1)\n",
    "plot1.plot(ts, ys[\"ras_gtp\"], ts, ys[\"mapk_pp\"])\n",
    "plot2 = plt.subplot(2,1,2)\n",
    "plot2.plot(ts_fitted, ys_fitted[\"ras_gtp\"], ts_fitted, ys_fitted[\"mapk_pp\"])"
   ]
  },
  {
   "cell_type": "code",
   "execution_count": null,
   "metadata": {},
   "outputs": [],
   "source": []
  },
  {
   "cell_type": "code",
   "execution_count": null,
   "metadata": {},
   "outputs": [],
   "source": []
  }
 ],
 "metadata": {
  "kernelspec": {
   "display_name": "Python 2",
   "language": "python",
   "name": "python2"
  },
  "language_info": {
   "codemirror_mode": {
    "name": "ipython",
    "version": 2
   },
   "file_extension": ".py",
   "mimetype": "text/x-python",
   "name": "python",
   "nbconvert_exporter": "python",
   "pygments_lexer": "ipython2",
   "version": "2.7.12"
  }
 },
 "nbformat": 4,
 "nbformat_minor": 2
}
